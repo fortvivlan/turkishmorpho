{
 "cells": [
  {
   "cell_type": "markdown",
   "id": "b461afea-fef7-46ce-b7f6-6e0cbea03c04",
   "metadata": {},
   "source": [
    "В командной строке:\n",
    "\n",
    "- pip install zeyrek\n",
    "- pip3 install NlpToolkit-MorphologicalAnalysis\n",
    "- pip install nltk\n",
    "- pip install corpy\n",
    "\n",
    "В интерактивной среде питона:\n",
    "\n",
    "    import nltk\n",
    "    nltk.download()\n",
    "    \n",
    "(Это нужно выполнить только один раз для загрузки необходимых вещей. Выползет окошечко, в котором нужно выбрать \"all\" и загрузить). "
   ]
  },
  {
   "cell_type": "code",
   "execution_count": 60,
   "id": "ffa0ed48-cf9e-4143-853e-8a1bf114930b",
   "metadata": {},
   "outputs": [],
   "source": [
    "# импортируем нужные модули\n",
    "\n",
    "import pandas as pd\n",
    "import json\n",
    "import zeyrek\n",
    "import re\n",
    "from MorphologicalAnalysis import FsmMorphologicalAnalyzer\n",
    "from corpy.udpipe import Model"
   ]
  },
  {
   "cell_type": "code",
   "execution_count": 41,
   "id": "0392aa86-347e-4550-ab57-5b32edd68bb7",
   "metadata": {},
   "outputs": [],
   "source": [
    "data = []\n",
    "with open('turk2.json', 'r',  encoding='utf8') as file:  # здесь нужно поменять имя файла на свое\n",
    "    for line in file:\n",
    "        data.append(json.loads(line))\n",
    "        \n",
    "data = pd.DataFrame(data)"
   ]
  },
  {
   "cell_type": "code",
   "execution_count": 42,
   "id": "7e3d47e5-36e7-4801-a713-2dfb311221e1",
   "metadata": {},
   "outputs": [
    {
     "data": {
      "text/html": [
       "<div>\n",
       "<style scoped>\n",
       "    .dataframe tbody tr th:only-of-type {\n",
       "        vertical-align: middle;\n",
       "    }\n",
       "\n",
       "    .dataframe tbody tr th {\n",
       "        vertical-align: top;\n",
       "    }\n",
       "\n",
       "    .dataframe thead th {\n",
       "        text-align: right;\n",
       "    }\n",
       "</style>\n",
       "<table border=\"1\" class=\"dataframe\">\n",
       "  <thead>\n",
       "    <tr style=\"text-align: right;\">\n",
       "      <th></th>\n",
       "      <th>id</th>\n",
       "      <th>conversation_id</th>\n",
       "      <th>created_at</th>\n",
       "      <th>date</th>\n",
       "      <th>time</th>\n",
       "      <th>timezone</th>\n",
       "      <th>user_id</th>\n",
       "      <th>username</th>\n",
       "      <th>name</th>\n",
       "      <th>place</th>\n",
       "      <th>...</th>\n",
       "      <th>geo</th>\n",
       "      <th>source</th>\n",
       "      <th>user_rt_id</th>\n",
       "      <th>user_rt</th>\n",
       "      <th>retweet_id</th>\n",
       "      <th>reply_to</th>\n",
       "      <th>retweet_date</th>\n",
       "      <th>translate</th>\n",
       "      <th>trans_src</th>\n",
       "      <th>trans_dest</th>\n",
       "    </tr>\n",
       "  </thead>\n",
       "  <tbody>\n",
       "    <tr>\n",
       "      <th>0</th>\n",
       "      <td>1448655827259199488</td>\n",
       "      <td>1448655827259199488</td>\n",
       "      <td>2021-10-14 17:23:58 MSK</td>\n",
       "      <td>2021-10-14</td>\n",
       "      <td>17:23:58</td>\n",
       "      <td>+0300</td>\n",
       "      <td>109226167</td>\n",
       "      <td>mevlutcavusoglu</td>\n",
       "      <td>Mevlüt Çavuşoğlu</td>\n",
       "      <td></td>\n",
       "      <td>...</td>\n",
       "      <td></td>\n",
       "      <td></td>\n",
       "      <td></td>\n",
       "      <td></td>\n",
       "      <td></td>\n",
       "      <td>[]</td>\n",
       "      <td></td>\n",
       "      <td></td>\n",
       "      <td></td>\n",
       "      <td></td>\n",
       "    </tr>\n",
       "    <tr>\n",
       "      <th>1</th>\n",
       "      <td>1448616241510354949</td>\n",
       "      <td>1448616241510354949</td>\n",
       "      <td>2021-10-14 14:46:40 MSK</td>\n",
       "      <td>2021-10-14</td>\n",
       "      <td>14:46:40</td>\n",
       "      <td>+0300</td>\n",
       "      <td>109226167</td>\n",
       "      <td>mevlutcavusoglu</td>\n",
       "      <td>Mevlüt Çavuşoğlu</td>\n",
       "      <td></td>\n",
       "      <td>...</td>\n",
       "      <td></td>\n",
       "      <td></td>\n",
       "      <td></td>\n",
       "      <td></td>\n",
       "      <td></td>\n",
       "      <td>[]</td>\n",
       "      <td></td>\n",
       "      <td></td>\n",
       "      <td></td>\n",
       "      <td></td>\n",
       "    </tr>\n",
       "    <tr>\n",
       "      <th>2</th>\n",
       "      <td>1448616185965199368</td>\n",
       "      <td>1448616185965199368</td>\n",
       "      <td>2021-10-14 14:46:27 MSK</td>\n",
       "      <td>2021-10-14</td>\n",
       "      <td>14:46:27</td>\n",
       "      <td>+0300</td>\n",
       "      <td>109226167</td>\n",
       "      <td>mevlutcavusoglu</td>\n",
       "      <td>Mevlüt Çavuşoğlu</td>\n",
       "      <td></td>\n",
       "      <td>...</td>\n",
       "      <td></td>\n",
       "      <td></td>\n",
       "      <td></td>\n",
       "      <td></td>\n",
       "      <td></td>\n",
       "      <td>[]</td>\n",
       "      <td></td>\n",
       "      <td></td>\n",
       "      <td></td>\n",
       "      <td></td>\n",
       "    </tr>\n",
       "    <tr>\n",
       "      <th>3</th>\n",
       "      <td>1448234252097789954</td>\n",
       "      <td>1448234252097789954</td>\n",
       "      <td>2021-10-13 13:28:47 MSK</td>\n",
       "      <td>2021-10-13</td>\n",
       "      <td>13:28:47</td>\n",
       "      <td>+0300</td>\n",
       "      <td>109226167</td>\n",
       "      <td>mevlutcavusoglu</td>\n",
       "      <td>Mevlüt Çavuşoğlu</td>\n",
       "      <td></td>\n",
       "      <td>...</td>\n",
       "      <td></td>\n",
       "      <td></td>\n",
       "      <td></td>\n",
       "      <td></td>\n",
       "      <td></td>\n",
       "      <td>[]</td>\n",
       "      <td></td>\n",
       "      <td></td>\n",
       "      <td></td>\n",
       "      <td></td>\n",
       "    </tr>\n",
       "    <tr>\n",
       "      <th>4</th>\n",
       "      <td>1448234204706349059</td>\n",
       "      <td>1448234204706349059</td>\n",
       "      <td>2021-10-13 13:28:35 MSK</td>\n",
       "      <td>2021-10-13</td>\n",
       "      <td>13:28:35</td>\n",
       "      <td>+0300</td>\n",
       "      <td>109226167</td>\n",
       "      <td>mevlutcavusoglu</td>\n",
       "      <td>Mevlüt Çavuşoğlu</td>\n",
       "      <td></td>\n",
       "      <td>...</td>\n",
       "      <td></td>\n",
       "      <td></td>\n",
       "      <td></td>\n",
       "      <td></td>\n",
       "      <td></td>\n",
       "      <td>[]</td>\n",
       "      <td></td>\n",
       "      <td></td>\n",
       "      <td></td>\n",
       "      <td></td>\n",
       "    </tr>\n",
       "  </tbody>\n",
       "</table>\n",
       "<p>5 rows × 36 columns</p>\n",
       "</div>"
      ],
      "text/plain": [
       "                    id      conversation_id               created_at  \\\n",
       "0  1448655827259199488  1448655827259199488  2021-10-14 17:23:58 MSK   \n",
       "1  1448616241510354949  1448616241510354949  2021-10-14 14:46:40 MSK   \n",
       "2  1448616185965199368  1448616185965199368  2021-10-14 14:46:27 MSK   \n",
       "3  1448234252097789954  1448234252097789954  2021-10-13 13:28:47 MSK   \n",
       "4  1448234204706349059  1448234204706349059  2021-10-13 13:28:35 MSK   \n",
       "\n",
       "         date      time timezone    user_id         username  \\\n",
       "0  2021-10-14  17:23:58    +0300  109226167  mevlutcavusoglu   \n",
       "1  2021-10-14  14:46:40    +0300  109226167  mevlutcavusoglu   \n",
       "2  2021-10-14  14:46:27    +0300  109226167  mevlutcavusoglu   \n",
       "3  2021-10-13  13:28:47    +0300  109226167  mevlutcavusoglu   \n",
       "4  2021-10-13  13:28:35    +0300  109226167  mevlutcavusoglu   \n",
       "\n",
       "               name place  ... geo source user_rt_id user_rt retweet_id  \\\n",
       "0  Mevlüt Çavuşoğlu        ...                                            \n",
       "1  Mevlüt Çavuşoğlu        ...                                            \n",
       "2  Mevlüt Çavuşoğlu        ...                                            \n",
       "3  Mevlüt Çavuşoğlu        ...                                            \n",
       "4  Mevlüt Çavuşoğlu        ...                                            \n",
       "\n",
       "   reply_to  retweet_date  translate trans_src trans_dest  \n",
       "0        []                                                \n",
       "1        []                                                \n",
       "2        []                                                \n",
       "3        []                                                \n",
       "4        []                                                \n",
       "\n",
       "[5 rows x 36 columns]"
      ]
     },
     "execution_count": 42,
     "metadata": {},
     "output_type": "execute_result"
    }
   ],
   "source": [
    "data.head()  # теперь у нас с вами есть датасет пандас, в котором могут быть полезные колонки (скорее всего, пригодится колонка \"language\", чтобы отсеять нетурецкие твиты). "
   ]
  },
  {
   "cell_type": "code",
   "execution_count": 43,
   "id": "9d178aa2-a4ea-4e53-96c2-85b1e8c4d16d",
   "metadata": {},
   "outputs": [
    {
     "data": {
      "text/plain": [
       "array(['tr', 'en', 'es', 'ro', 'lv', 'und', 'de', 'ja', 'ar', 'ru', 'pl',\n",
       "       'fr', 'ht', 'fa', 'in', 'et', 'it', 'pt', 'eu', 'fi', 'da', 'lt',\n",
       "       'ur', 'tl', 'el', 'ko', 'ca', 'no', 'hu', 'ka', 'nl', 'hi', 'sv',\n",
       "       'cy'], dtype=object)"
      ]
     },
     "execution_count": 43,
     "metadata": {},
     "output_type": "execute_result"
    }
   ],
   "source": [
    "data.language.unique()  # на каких языках есть твиты?"
   ]
  },
  {
   "cell_type": "code",
   "execution_count": 44,
   "id": "66510f5e-66ef-4b89-9846-aba3f1f131ef",
   "metadata": {},
   "outputs": [],
   "source": [
    "data = data[data.language == 'tr']  # отфильтруем только турецкий"
   ]
  },
  {
   "cell_type": "code",
   "execution_count": 45,
   "id": "0b31cf01-704a-4a1c-b0a3-a6a346cd2714",
   "metadata": {},
   "outputs": [],
   "source": [
    "data.tweet = data.tweet.apply(lambda tweet: re.sub(r'https://.+|@\\S+|#\\S+', '', tweet))\n",
    "# почистим твиты от адресов, обращений к людям (@google) и хештегов"
   ]
  },
  {
   "cell_type": "code",
   "execution_count": 46,
   "id": "f170a368-0159-447d-af7c-bc14c7a0eb5e",
   "metadata": {},
   "outputs": [
    {
     "data": {
      "text/html": [
       "<div>\n",
       "<style scoped>\n",
       "    .dataframe tbody tr th:only-of-type {\n",
       "        vertical-align: middle;\n",
       "    }\n",
       "\n",
       "    .dataframe tbody tr th {\n",
       "        vertical-align: top;\n",
       "    }\n",
       "\n",
       "    .dataframe thead th {\n",
       "        text-align: right;\n",
       "    }\n",
       "</style>\n",
       "<table border=\"1\" class=\"dataframe\">\n",
       "  <thead>\n",
       "    <tr style=\"text-align: right;\">\n",
       "      <th></th>\n",
       "      <th>tweet</th>\n",
       "    </tr>\n",
       "  </thead>\n",
       "  <tbody>\n",
       "    <tr>\n",
       "      <th>0</th>\n",
       "      <td>Geçici Hükümeti Dışişleri Bakan Vekili Amir Khan Muttaqi ile Görüşme Sonrası Basını Bilgilendirme  📍Ankara</td>\n",
       "    </tr>\n",
       "    <tr>\n",
       "      <th>1</th>\n",
       "      <td>Bugünkü ilk konuğumuz kardeş  Dışişleri Bakanı Najla Mangoush ile ikili ilişkilerimizi ve gündemimizdeki konuları ele aldık.  -Seçimlerin özgür, adil ve güvenilir şekilde yapılmasını destekliyoruz.  -Libya'nın istikrar ve refahına katkılarımızı sürdüreceğiz.🇹🇷🇱🇾</td>\n",
       "    </tr>\n",
       "    <tr>\n",
       "      <th>3</th>\n",
       "      <td>Bu hafta Latin Amerika'dan ağırladığımız üçüncü konuğumuz  DB Denis Moncada’ydı. -Eğitim, Bakanlıklarımız arasında siyasi istişareler ve protokol anlaşmalarını imzaladık. -Tarım ve inşaat alanlarında işbirliği yapacağız. -Büyükelçiliklerimizi karşılıklı açacağız.🇹🇷🇳🇮</td>\n",
       "    </tr>\n",
       "    <tr>\n",
       "      <th>5</th>\n",
       "      <td>Dışişleri Bakanı Denis Moncada Colindres ile Ortak Basın Toplantısı   Conferencia de Prensa Conjunta con Denis Moncada Colindres, Ministro de Relaciones Exteriores de  🇹🇷🇳🇮  📍Ankara</td>\n",
       "    </tr>\n",
       "    <tr>\n",
       "      <th>6</th>\n",
       "      <td>Kardeş  Temsilciler Meclisi Başkanıyla görüştük. 2022’de diplomatik ilişkilerimizin 30. yıldönümünü birlikte kutlayacağız.  Met w/Zokirzoda, Speaker of brotherly  House of Representatives. In 2022 will celebrate 30th anniv. of diplomatic relations.🇹🇷🇹🇯</td>\n",
       "    </tr>\n",
       "  </tbody>\n",
       "</table>\n",
       "</div>"
      ],
      "text/plain": [
       "                                                                                                                                                                                                                                                                           tweet\n",
       "0                                                                                                                                                                   Geçici Hükümeti Dışişleri Bakan Vekili Amir Khan Muttaqi ile Görüşme Sonrası Basını Bilgilendirme  📍Ankara  \n",
       "1       Bugünkü ilk konuğumuz kardeş  Dışişleri Bakanı Najla Mangoush ile ikili ilişkilerimizi ve gündemimizdeki konuları ele aldık.  -Seçimlerin özgür, adil ve güvenilir şekilde yapılmasını destekliyoruz.  -Libya'nın istikrar ve refahına katkılarımızı sürdüreceğiz.🇹🇷🇱🇾  \n",
       "3  Bu hafta Latin Amerika'dan ağırladığımız üçüncü konuğumuz  DB Denis Moncada’ydı. -Eğitim, Bakanlıklarımız arasında siyasi istişareler ve protokol anlaşmalarını imzaladık. -Tarım ve inşaat alanlarında işbirliği yapacağız. -Büyükelçiliklerimizi karşılıklı açacağız.🇹🇷🇳🇮  \n",
       "5                                                                                        Dışişleri Bakanı Denis Moncada Colindres ile Ortak Basın Toplantısı   Conferencia de Prensa Conjunta con Denis Moncada Colindres, Ministro de Relaciones Exteriores de  🇹🇷🇳🇮  📍Ankara  \n",
       "6                 Kardeş  Temsilciler Meclisi Başkanıyla görüştük. 2022’de diplomatik ilişkilerimizin 30. yıldönümünü birlikte kutlayacağız.  Met w/Zokirzoda, Speaker of brotherly  House of Representatives. In 2022 will celebrate 30th anniv. of diplomatic relations.🇹🇷🇹🇯  "
      ]
     },
     "execution_count": 46,
     "metadata": {},
     "output_type": "execute_result"
    }
   ],
   "source": [
    "pd.set_option('display.max_colwidth', None)  # эта штука нужна, чтобы отображались твиты целиком\n",
    "data[['tweet']].head()"
   ]
  },
  {
   "cell_type": "markdown",
   "id": "bab2ffb5-f20e-41b9-8e18-e31bd0946ff1",
   "metadata": {},
   "source": [
    "Правиловый парсер zeyrek"
   ]
  },
  {
   "cell_type": "code",
   "execution_count": 61,
   "id": "9a5bb28f-aa7f-4edd-bf0b-2de874446bba",
   "metadata": {},
   "outputs": [],
   "source": [
    "token = re.compile(r'''(?i)\\b[a-zçğıüöş]+(?:-[a-zçğıüöş]+)*\\b|[.,!@#$%\\^&*()\\[\\]{};:'\"?><\\\\/`~“”]+''') # скомпилируем регулярку для токенизации"
   ]
  },
  {
   "cell_type": "code",
   "execution_count": 47,
   "id": "bf4ec4c4-f0dc-46c6-831d-ea48263627ff",
   "metadata": {},
   "outputs": [
    {
     "data": {
      "text/plain": [
       "['Geçici',\n",
       " 'Hükümeti',\n",
       " 'Dışişleri',\n",
       " 'Bakan',\n",
       " 'Vekili',\n",
       " 'Amir',\n",
       " 'Khan',\n",
       " 'Muttaqi',\n",
       " 'ile',\n",
       " 'Görüşme']"
      ]
     },
     "execution_count": 47,
     "metadata": {},
     "output_type": "execute_result"
    }
   ],
   "source": [
    "tokens = []\n",
    "for elem in data.tweet:\n",
    "    tokens.extend(re.findall(token, elem))\n",
    "tokens[:10]"
   ]
  },
  {
   "cell_type": "code",
   "execution_count": 48,
   "id": "a092b4aa-9e62-4291-927b-2ec9f0429bf3",
   "metadata": {},
   "outputs": [],
   "source": [
    "analyzer = zeyrek.MorphAnalyzer()"
   ]
  },
  {
   "cell_type": "code",
   "execution_count": 49,
   "id": "9720e471-da09-48d2-9a65-19cb0daf3397",
   "metadata": {},
   "outputs": [
    {
     "data": {
      "text/plain": [
       "[[[Parse(word='Geçici', lemma='geçici', pos='Adj', morphemes=['Adj'], formatted='[geçici:Adj] geçici:Adj'),\n",
       "   Parse(word='Geçici', lemma='geçmek', pos='Adj', morphemes=['Verb', 'Agt', 'Adj'], formatted='[geçmek:Verb] geç:Verb|ici:Agt→Adj'),\n",
       "   Parse(word='Geçici', lemma='geçici', pos='Noun', morphemes=['Noun', 'A3sg'], formatted='[geçici:Noun] geçici:Noun+A3sg'),\n",
       "   Parse(word='Geçici', lemma='geçmek', pos='Noun', morphemes=['Verb', 'Agt', 'Noun', 'A3sg'], formatted='[geçmek:Verb] geç:Verb|ici:Agt→Noun+A3sg')]],\n",
       " [[Parse(word='Hükümeti', lemma='hükümet', pos='Noun', morphemes=['Noun', 'A3sg', 'Acc'], formatted='[hükümet:Noun] hükümet:Noun+A3sg+i:Acc'),\n",
       "   Parse(word='Hükümeti', lemma='hükümet', pos='Noun', morphemes=['Noun', 'A3sg', 'P3sg'], formatted='[hükümet:Noun] hükümet:Noun+A3sg+i:P3sg')]],\n",
       " [[Parse(word='Dışişleri', lemma='dışiş', pos='Noun', morphemes=['Noun', 'A3sg', 'P3pl'], formatted='[dışiş:Noun] dışiş:Noun+A3sg+leri:P3pl'),\n",
       "   Parse(word='Dışişleri', lemma='dışiş', pos='Noun', morphemes=['Noun', 'A3pl', 'P3sg'], formatted='[dışiş:Noun] dışiş:Noun+ler:A3pl+i:P3sg'),\n",
       "   Parse(word='Dışişleri', lemma='dışiş', pos='Noun', morphemes=['Noun', 'A3pl', 'P3pl'], formatted='[dışiş:Noun] dışiş:Noun+ler:A3pl+i:P3pl'),\n",
       "   Parse(word='Dışişleri', lemma='dışiş', pos='Noun', morphemes=['Noun', 'A3pl'], formatted='[dışiş:Noun] dışiş:Noun+leri:A3pl'),\n",
       "   Parse(word='Dışişleri', lemma='dışişleri', pos='Noun', morphemes=['Noun', 'A3sg'], formatted='[dışişleri:Noun] dışişleri:Noun+A3sg'),\n",
       "   Parse(word='Dışişleri', lemma='dışişleri', pos='Noun', morphemes=['Noun', 'A3sg', 'P3sg'], formatted='[dışişleri:Noun] dışişleri:Noun+A3sg+P3sg')]],\n",
       " [[Parse(word='Bakan', lemma='bakmak', pos='Adj', morphemes=['Verb', 'PresPart', 'Adj'], formatted='[bakmak:Verb] bak:Verb|an:PresPart→Adj'),\n",
       "   Parse(word='Bakan', lemma='bakan', pos='Noun', morphemes=['Noun', 'A3sg'], formatted='[bakan:Noun] bakan:Noun+A3sg')]],\n",
       " [[Parse(word='Vekili', lemma='Vekil', pos='Noun', morphemes=['Noun', 'A3sg', 'Acc'], formatted='[Vekil:Noun,Prop] vekil:Noun+A3sg+i:Acc'),\n",
       "   Parse(word='Vekili', lemma='Vekil', pos='Noun', morphemes=['Noun', 'A3sg', 'P3sg'], formatted='[Vekil:Noun,Prop] vekil:Noun+A3sg+i:P3sg'),\n",
       "   Parse(word='Vekili', lemma='vekil', pos='Noun', morphemes=['Noun', 'A3sg', 'Acc'], formatted='[vekil:Noun] vekil:Noun+A3sg+i:Acc'),\n",
       "   Parse(word='Vekili', lemma='vekil', pos='Noun', morphemes=['Noun', 'A3sg', 'P3sg'], formatted='[vekil:Noun] vekil:Noun+A3sg+i:P3sg')]],\n",
       " [[Parse(word='Amir', lemma='amir', pos='Adj', morphemes=['Adj'], formatted='[amir:Adj] amir:Adj'),\n",
       "   Parse(word='Amir', lemma='amir', pos='Noun', morphemes=['Noun', 'A3sg'], formatted='[amir:Noun] amir:Noun+A3sg'),\n",
       "   Parse(word='Amir', lemma='Amir', pos='Noun', morphemes=['Noun', 'A3sg'], formatted='[Amir:Noun,Prop] amir:Noun+A3sg')]],\n",
       " [[Parse(word='Khan', lemma='Khan', pos='Noun', morphemes=['Noun', 'A3sg'], formatted='[Khan:Noun,Prop] khan:Noun+A3sg')]],\n",
       " [[Parse(word='Muttaqi', lemma='Unk', pos='Unk', morphemes='Unk', formatted='Unk')],\n",
       "  []],\n",
       " [[Parse(word='ile', lemma='ile', pos='Conj', morphemes=['Conj'], formatted='[ile:Conj] ile:Conj'),\n",
       "   Parse(word='ile', lemma='ile', pos='Postp', morphemes=['Postp'], formatted='[ile:Postp,PCNom] ile:Postp'),\n",
       "   Parse(word='ile', lemma='ilmek', pos='Verb', morphemes=['Verb', 'Opt', 'A3sg'], formatted='[ilmek:Verb] il:Verb+e:Opt+A3sg'),\n",
       "   Parse(word='ile', lemma='il', pos='Noun', morphemes=['Noun', 'A3sg', 'Dat'], formatted='[il:Noun] il:Noun+A3sg+e:Dat')]],\n",
       " [[Parse(word='Görüşme', lemma='görüşmek', pos='Verb', morphemes=['Verb', 'Neg', 'Imp', 'A2sg'], formatted='[görüşmek:Verb] görüş:Verb+me:Neg+Imp+A2sg'),\n",
       "   Parse(word='Görüşme', lemma='görüşme', pos='Noun', morphemes=['Noun', 'A3sg'], formatted='[görüşme:Noun] görüşme:Noun+A3sg'),\n",
       "   Parse(word='Görüşme', lemma='görüşmek', pos='Noun', morphemes=['Verb', 'Inf2', 'Noun', 'A3sg'], formatted='[görüşmek:Verb] görüş:Verb|me:Inf2→Noun+A3sg')]]]"
      ]
     },
     "execution_count": 49,
     "metadata": {},
     "output_type": "execute_result"
    }
   ],
   "source": [
    "res = []\n",
    "for token in tokens[:1000]:  # обратите внимание, я только на первой тысяче токенов делаю\n",
    "    res.append(analyzer.analyze(token))\n",
    "res[:10]"
   ]
  },
  {
   "cell_type": "markdown",
   "id": "6069ce02-7659-4fc3-b337-e8858135ba34",
   "metadata": {},
   "source": [
    "Очевидно, zeyrek устроен примерно так же, как и pymorphy2 (скоро будем разбирать его). Значит, чтобы получить наиболее вероятные разборы, нужно в списке парсов выбрать первый парс. Типа того:"
   ]
  },
  {
   "cell_type": "code",
   "execution_count": 50,
   "id": "f5b29602-b663-4075-a9e6-a424929ef49b",
   "metadata": {},
   "outputs": [],
   "source": [
    "zeyrekresults = [{'word': token[0][0].word, \n",
    "                  'lemma': token[0][0].lemma, \n",
    "                  'pos': token[0][0].morphemes[0],\n",
    "                  'morph': ','.join(token[0][0].morphemes[1:])} for token in res if token]\n",
    "\n",
    "# для чего я так сложно сделала?.."
   ]
  },
  {
   "cell_type": "code",
   "execution_count": 51,
   "id": "c590eba6-c3a8-446c-a0fe-c64c3864e385",
   "metadata": {},
   "outputs": [
    {
     "data": {
      "text/plain": [
       "[{'word': 'Geçici', 'lemma': 'geçici', 'pos': 'Adj', 'morph': ''},\n",
       " {'word': 'Hükümeti', 'lemma': 'hükümet', 'pos': 'Noun', 'morph': 'A3sg,Acc'}]"
      ]
     },
     "execution_count": 51,
     "metadata": {},
     "output_type": "execute_result"
    }
   ],
   "source": [
    "zeyrekresults[:2]"
   ]
  },
  {
   "cell_type": "code",
   "execution_count": 52,
   "id": "5dee9e17-d350-4999-ad81-f69b8ad1da36",
   "metadata": {},
   "outputs": [
    {
     "data": {
      "text/html": [
       "<div>\n",
       "<style scoped>\n",
       "    .dataframe tbody tr th:only-of-type {\n",
       "        vertical-align: middle;\n",
       "    }\n",
       "\n",
       "    .dataframe tbody tr th {\n",
       "        vertical-align: top;\n",
       "    }\n",
       "\n",
       "    .dataframe thead th {\n",
       "        text-align: right;\n",
       "    }\n",
       "</style>\n",
       "<table border=\"1\" class=\"dataframe\">\n",
       "  <thead>\n",
       "    <tr style=\"text-align: right;\">\n",
       "      <th></th>\n",
       "      <th>word</th>\n",
       "      <th>lemma</th>\n",
       "      <th>pos</th>\n",
       "      <th>morph</th>\n",
       "    </tr>\n",
       "  </thead>\n",
       "  <tbody>\n",
       "    <tr>\n",
       "      <th>0</th>\n",
       "      <td>Geçici</td>\n",
       "      <td>geçici</td>\n",
       "      <td>Adj</td>\n",
       "      <td></td>\n",
       "    </tr>\n",
       "    <tr>\n",
       "      <th>1</th>\n",
       "      <td>Hükümeti</td>\n",
       "      <td>hükümet</td>\n",
       "      <td>Noun</td>\n",
       "      <td>A3sg,Acc</td>\n",
       "    </tr>\n",
       "    <tr>\n",
       "      <th>2</th>\n",
       "      <td>Dışişleri</td>\n",
       "      <td>dışiş</td>\n",
       "      <td>Noun</td>\n",
       "      <td>A3sg,P3pl</td>\n",
       "    </tr>\n",
       "    <tr>\n",
       "      <th>3</th>\n",
       "      <td>Bakan</td>\n",
       "      <td>bakmak</td>\n",
       "      <td>Verb</td>\n",
       "      <td>PresPart,Adj</td>\n",
       "    </tr>\n",
       "    <tr>\n",
       "      <th>4</th>\n",
       "      <td>Vekili</td>\n",
       "      <td>Vekil</td>\n",
       "      <td>Noun</td>\n",
       "      <td>A3sg,Acc</td>\n",
       "    </tr>\n",
       "  </tbody>\n",
       "</table>\n",
       "</div>"
      ],
      "text/plain": [
       "        word    lemma   pos         morph\n",
       "0     Geçici   geçici   Adj              \n",
       "1   Hükümeti  hükümet  Noun      A3sg,Acc\n",
       "2  Dışişleri    dışiş  Noun     A3sg,P3pl\n",
       "3      Bakan   bakmak  Verb  PresPart,Adj\n",
       "4     Vekili    Vekil  Noun      A3sg,Acc"
      ]
     },
     "execution_count": 52,
     "metadata": {},
     "output_type": "execute_result"
    }
   ],
   "source": [
    "# ...а чтобы хоба:\n",
    "zeyrekpd = pd.DataFrame(zeyrekresults)\n",
    "zeyrekpd.head()"
   ]
  },
  {
   "cell_type": "code",
   "execution_count": 53,
   "id": "b7a3947f-2b4a-46cf-98d8-ef05568e275d",
   "metadata": {},
   "outputs": [],
   "source": [
    "# а эту хобу уже можно в эксель записать:\n",
    "zeyrekpd.to_excel('zeyrekmorph.xlsx')"
   ]
  },
  {
   "cell_type": "markdown",
   "id": "3ffadad6-527e-4eea-9e7c-1011865241b4",
   "metadata": {},
   "source": [
    "Правиловый парсер номер два"
   ]
  },
  {
   "cell_type": "code",
   "execution_count": 54,
   "id": "c7bb7856-2f1e-4b5e-9c8c-02f43301be66",
   "metadata": {},
   "outputs": [],
   "source": [
    "fsm = FsmMorphologicalAnalyzer.FsmMorphologicalAnalyzer()"
   ]
  },
  {
   "cell_type": "code",
   "execution_count": 55,
   "id": "22260a9f-4322-4875-9368-f96f18dfa569",
   "metadata": {},
   "outputs": [
    {
     "data": {
      "text/plain": [
       "[['Geçici',\n",
       "  'geç+VERB+POS^DB+ADJ+AGT',\n",
       "  'geç+VERB+POS^DB+NOUN+AGT+A3SG+PNON+NOM',\n",
       "  'geçici+ADJ'],\n",
       " ['Hükümeti', 'hükümet+NOUN+A3SG+P3SG+NOM', 'hükümet+NOUN+A3SG+PNON+ACC'],\n",
       " ['Dışişleri', 'dışişleri+NOUN+A3PL+PNON+NOM'],\n",
       " ['Bakan', 'bak+VERB+POS^DB+ADJ+PRESPART', 'bakan+NOUN+A3SG+PNON+NOM'],\n",
       " ['Vekili', 'vekil+NOUN+A3SG+P3SG+NOM', 'vekil+NOUN+A3SG+PNON+ACC'],\n",
       " ['Amir', 'amir+NOUN+A3SG+PNON+NOM', 'amir+NOUN+PROP+A3SG+PNON+NOM'],\n",
       " ['Khan'],\n",
       " ['Muttaqi'],\n",
       " ['ile', 'il+NOUN+A3SG+PNON+DAT', 'ile+CONJ', 'ile+POSTP+PCNOM'],\n",
       " ['Görüşme',\n",
       "  'gör+VERB+RECIP+NEG+IMP+A2SG',\n",
       "  'gör+VERB+RECIP+POS^DB+NOUN+INF2+A3SG+PNON+NOM',\n",
       "  'görüş+VERB+NEG+IMP+A2SG',\n",
       "  'görüş+VERB+POS^DB+NOUN+INF2+A3SG+PNON+NOM',\n",
       "  'görüşme+NOUN+A3SG+PNON+NOM']]"
      ]
     },
     "execution_count": 55,
     "metadata": {},
     "output_type": "execute_result"
    }
   ],
   "source": [
    "res = []\n",
    "for token in tokens[:1000]:\n",
    "    parse = fsm.morphologicalAnalysis(token)\n",
    "    s = [token]\n",
    "    for i in range(parse.size()):\n",
    "        s.append(parse.getFsmParse(i).transitionList())\n",
    "    res.append(s)\n",
    "res[:10]"
   ]
  },
  {
   "cell_type": "markdown",
   "id": "34107f5f-f6a5-46b7-b9b7-56b085d76a3a",
   "metadata": {},
   "source": [
    "Вторая хоба мне меньше нравится, но в целом можно и ее разодрать:"
   ]
  },
  {
   "cell_type": "code",
   "execution_count": 58,
   "id": "19951617-ee1d-4a07-a8c7-844867d65523",
   "metadata": {},
   "outputs": [
    {
     "data": {
      "text/html": [
       "<div>\n",
       "<style scoped>\n",
       "    .dataframe tbody tr th:only-of-type {\n",
       "        vertical-align: middle;\n",
       "    }\n",
       "\n",
       "    .dataframe tbody tr th {\n",
       "        vertical-align: top;\n",
       "    }\n",
       "\n",
       "    .dataframe thead th {\n",
       "        text-align: right;\n",
       "    }\n",
       "</style>\n",
       "<table border=\"1\" class=\"dataframe\">\n",
       "  <thead>\n",
       "    <tr style=\"text-align: right;\">\n",
       "      <th></th>\n",
       "      <th>word</th>\n",
       "      <th>stem</th>\n",
       "      <th>pos</th>\n",
       "      <th>morph</th>\n",
       "    </tr>\n",
       "  </thead>\n",
       "  <tbody>\n",
       "    <tr>\n",
       "      <th>0</th>\n",
       "      <td>Geçici</td>\n",
       "      <td>geç</td>\n",
       "      <td>VERB</td>\n",
       "      <td>POS^DB, ADJ, AGT</td>\n",
       "    </tr>\n",
       "    <tr>\n",
       "      <th>1</th>\n",
       "      <td>Hükümeti</td>\n",
       "      <td>hükümet</td>\n",
       "      <td>NOUN</td>\n",
       "      <td>A3SG, P3SG, NOM</td>\n",
       "    </tr>\n",
       "    <tr>\n",
       "      <th>2</th>\n",
       "      <td>Dışişleri</td>\n",
       "      <td>dışişleri</td>\n",
       "      <td>NOUN</td>\n",
       "      <td>A3PL, PNON, NOM</td>\n",
       "    </tr>\n",
       "    <tr>\n",
       "      <th>3</th>\n",
       "      <td>Bakan</td>\n",
       "      <td>bak</td>\n",
       "      <td>VERB</td>\n",
       "      <td>POS^DB, ADJ, PRESPART</td>\n",
       "    </tr>\n",
       "    <tr>\n",
       "      <th>4</th>\n",
       "      <td>Vekili</td>\n",
       "      <td>vekil</td>\n",
       "      <td>NOUN</td>\n",
       "      <td>A3SG, P3SG, NOM</td>\n",
       "    </tr>\n",
       "    <tr>\n",
       "      <th>5</th>\n",
       "      <td>Amir</td>\n",
       "      <td>amir</td>\n",
       "      <td>NOUN</td>\n",
       "      <td>A3SG, PNON, NOM</td>\n",
       "    </tr>\n",
       "    <tr>\n",
       "      <th>6</th>\n",
       "      <td>Khan</td>\n",
       "      <td>Khan</td>\n",
       "      <td>None</td>\n",
       "      <td>None</td>\n",
       "    </tr>\n",
       "    <tr>\n",
       "      <th>7</th>\n",
       "      <td>Muttaqi</td>\n",
       "      <td>Muttaqi</td>\n",
       "      <td>None</td>\n",
       "      <td>None</td>\n",
       "    </tr>\n",
       "    <tr>\n",
       "      <th>8</th>\n",
       "      <td>ile</td>\n",
       "      <td>il</td>\n",
       "      <td>NOUN</td>\n",
       "      <td>A3SG, PNON, DAT</td>\n",
       "    </tr>\n",
       "    <tr>\n",
       "      <th>9</th>\n",
       "      <td>Görüşme</td>\n",
       "      <td>gör</td>\n",
       "      <td>VERB</td>\n",
       "      <td>RECIP, NEG, IMP, A2SG</td>\n",
       "    </tr>\n",
       "  </tbody>\n",
       "</table>\n",
       "</div>"
      ],
      "text/plain": [
       "        word       stem   pos                  morph\n",
       "0     Geçici        geç  VERB       POS^DB, ADJ, AGT\n",
       "1   Hükümeti    hükümet  NOUN        A3SG, P3SG, NOM\n",
       "2  Dışişleri  dışişleri  NOUN        A3PL, PNON, NOM\n",
       "3      Bakan        bak  VERB  POS^DB, ADJ, PRESPART\n",
       "4     Vekili      vekil  NOUN        A3SG, P3SG, NOM\n",
       "5       Amir       amir  NOUN        A3SG, PNON, NOM\n",
       "6       Khan       Khan  None                   None\n",
       "7    Muttaqi    Muttaqi  None                   None\n",
       "8        ile         il  NOUN        A3SG, PNON, DAT\n",
       "9    Görüşme        gör  VERB  RECIP, NEG, IMP, A2SG"
      ]
     },
     "execution_count": 58,
     "metadata": {},
     "output_type": "execute_result"
    }
   ],
   "source": [
    "fsmresults = []\n",
    "for token in res:\n",
    "    if len(token) > 1:\n",
    "        dct = {'word': token[0]}\n",
    "        dissect = token[1].split('+')\n",
    "        dct['stem'] = dissect[0]\n",
    "        dct['pos'] = dissect[1]\n",
    "        dct['morph'] = ', '.join(dissect[2:])\n",
    "        fsmresults.append(dct)\n",
    "    else:\n",
    "        fsmresults.append({'word': token[0], 'stem': token[0], 'pos': None, 'morph': None})\n",
    "fsmresults = pd.DataFrame(fsmresults)\n",
    "fsmresults.head(10)"
   ]
  },
  {
   "cell_type": "code",
   "execution_count": 59,
   "id": "adc74f8e-512c-478a-a650-bebdd216b7ec",
   "metadata": {},
   "outputs": [],
   "source": [
    "fsmresults.to_excel('fsmmorph.xlsx')"
   ]
  },
  {
   "cell_type": "markdown",
   "id": "750d0c95-7fc8-45d8-af25-5e32a12e6a77",
   "metadata": {
    "tags": []
   },
   "source": [
    "А теперь udpipe для турецкого"
   ]
  },
  {
   "cell_type": "code",
   "execution_count": 43,
   "id": "fdd18f91-6a75-4359-91f1-5bc8bbcad466",
   "metadata": {},
   "outputs": [],
   "source": [
    "m = Model('turkish-imst-ud-2.5-191206.udpipe')  # загрузим модель udpipe для турецкого языка"
   ]
  },
  {
   "cell_type": "code",
   "execution_count": 44,
   "id": "69d9e91e-4c2e-4922-b739-1e780024ca4e",
   "metadata": {},
   "outputs": [],
   "source": [
    "sents = list(m.process(data.loc[0, 'tweet'])) # это тестовый прогон на единственном твите"
   ]
  },
  {
   "cell_type": "code",
   "execution_count": 45,
   "id": "69e62641-c9b2-4b0f-b71f-129e2dd9fa25",
   "metadata": {},
   "outputs": [
    {
     "name": "stdout",
     "output_type": "stream",
     "text": [
      "<root> <root> <root>\n",
      "Geçici geçici \n",
      "Hükümeti hükümet Case=Nom|Number=Sing|Number[psor]=Sing|Person=3|Person[psor]=3\n",
      "Dışişleri dışişleri Case=Nom|Number=Plur|Person=3\n",
      "Bakan bakan Case=Nom|Number=Sing|Person=3\n",
      "Vekili Vekili Case=Nom|Number=Sing|Number[psor]=Sing|Person=3|Person[psor]=3\n",
      "Amir amir Case=Nom|Number=Sing|Person=3\n",
      "Khan Khan Case=Nom|Number=Sing|Person=3\n",
      "Muttaqi Muttaq Case=Nom|Number=Sing|Person=3\n",
      "ile ile \n",
      "Görüşme görüşme Case=Nom|Number=Sing|Person=3\n",
      "Sonrası Sonrası Case=Nom|Number=Sing|Number[psor]=Sing|Person=3|Person[psor]=3\n",
      "Basını Ba Case=Acc|Number=Sing|Number[psor]=Sing|Person=3|Person[psor]=3\n",
      "Bilgilendirme Bilgilendir Aspect=Perf|Case=Nom|Mood=Ind|Polarity=Pos|Tense=Pres|VerbForm=Vnoun|Voice=Cau\n",
      "📍Ankara 📍Ankara Case=Nom|Number=Sing|Person=3\n"
     ]
    }
   ],
   "source": [
    "for sent in sents:\n",
    "    for word in sent.words:\n",
    "        print(word.form, word.lemma, word.feats)"
   ]
  },
  {
   "cell_type": "code",
   "execution_count": 49,
   "id": "6100b160-34d2-4b87-958e-8b6fd17a5d15",
   "metadata": {},
   "outputs": [
    {
     "data": {
      "text/html": [
       "<div>\n",
       "<style scoped>\n",
       "    .dataframe tbody tr th:only-of-type {\n",
       "        vertical-align: middle;\n",
       "    }\n",
       "\n",
       "    .dataframe tbody tr th {\n",
       "        vertical-align: top;\n",
       "    }\n",
       "\n",
       "    .dataframe thead th {\n",
       "        text-align: right;\n",
       "    }\n",
       "</style>\n",
       "<table border=\"1\" class=\"dataframe\">\n",
       "  <thead>\n",
       "    <tr style=\"text-align: right;\">\n",
       "      <th></th>\n",
       "      <th>word</th>\n",
       "      <th>lemma</th>\n",
       "      <th>pos</th>\n",
       "      <th>morph</th>\n",
       "    </tr>\n",
       "  </thead>\n",
       "  <tbody>\n",
       "    <tr>\n",
       "      <th>0</th>\n",
       "      <td>&lt;root&gt;</td>\n",
       "      <td>&lt;root&gt;</td>\n",
       "      <td>&lt;root&gt;</td>\n",
       "      <td>&lt;root&gt;</td>\n",
       "    </tr>\n",
       "    <tr>\n",
       "      <th>1</th>\n",
       "      <td>Geçici</td>\n",
       "      <td>geçici</td>\n",
       "      <td>ADJ</td>\n",
       "      <td></td>\n",
       "    </tr>\n",
       "    <tr>\n",
       "      <th>2</th>\n",
       "      <td>Hükümeti</td>\n",
       "      <td>hükümet</td>\n",
       "      <td>NOUN</td>\n",
       "      <td>Case=Nom|Number=Sing|Number[psor]=Sing|Person=...</td>\n",
       "    </tr>\n",
       "    <tr>\n",
       "      <th>3</th>\n",
       "      <td>Dışişleri</td>\n",
       "      <td>dışişleri</td>\n",
       "      <td>NOUN</td>\n",
       "      <td>Case=Nom|Number=Plur|Person=3</td>\n",
       "    </tr>\n",
       "    <tr>\n",
       "      <th>4</th>\n",
       "      <td>Bakan</td>\n",
       "      <td>bakan</td>\n",
       "      <td>NOUN</td>\n",
       "      <td>Case=Nom|Number=Sing|Person=3</td>\n",
       "    </tr>\n",
       "  </tbody>\n",
       "</table>\n",
       "</div>"
      ],
      "text/plain": [
       "        word      lemma     pos  \\\n",
       "0     <root>     <root>  <root>   \n",
       "1     Geçici     geçici     ADJ   \n",
       "2   Hükümeti    hükümet    NOUN   \n",
       "3  Dışişleri  dışişleri    NOUN   \n",
       "4      Bakan      bakan    NOUN   \n",
       "\n",
       "                                               morph  \n",
       "0                                             <root>  \n",
       "1                                                     \n",
       "2  Case=Nom|Number=Sing|Number[psor]=Sing|Person=...  \n",
       "3                      Case=Nom|Number=Plur|Person=3  \n",
       "4                      Case=Nom|Number=Sing|Person=3  "
      ]
     },
     "execution_count": 49,
     "metadata": {},
     "output_type": "execute_result"
    }
   ],
   "source": [
    "# чтобы прогнать на тысяче твитов и записать:\n",
    "\n",
    "udresults = []\n",
    "for tweet in data.loc[:1000, 'tweet']:\n",
    "    for sent in m.process(tweet):\n",
    "        for word in sent.words:\n",
    "            udresults.append({'word': word.form, 'lemma': word.lemma, 'pos': word.upostag, 'morph': word.feats})\n",
    "            \n",
    "udresults = pd.DataFrame(udresults)\n",
    "udresults.head()"
   ]
  },
  {
   "cell_type": "code",
   "execution_count": 50,
   "id": "05387c19-b4d7-454d-89af-78d0cbe54060",
   "metadata": {},
   "outputs": [],
   "source": [
    "udresults.to_excel('udturkish.xlsx')"
   ]
  }
 ],
 "metadata": {
  "kernelspec": {
   "display_name": "Python 3 (ipykernel)",
   "language": "python",
   "name": "python3"
  },
  "language_info": {
   "codemirror_mode": {
    "name": "ipython",
    "version": 3
   },
   "file_extension": ".py",
   "mimetype": "text/x-python",
   "name": "python",
   "nbconvert_exporter": "python",
   "pygments_lexer": "ipython3",
   "version": "3.8.10"
  }
 },
 "nbformat": 4,
 "nbformat_minor": 5
}
