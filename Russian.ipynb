{
 "cells": [
  {
   "cell_type": "markdown",
   "id": "c9763bf0-84ad-4583-ad31-793f01be63cc",
   "metadata": {},
   "source": [
    "Установить git (git-scm.com)\n",
    "\n",
    "- pip install pymorphy2\n",
    "- pip install git+https://github.com/nlpub/pymystem3\n",
    "- pip install spacy_udpipe\n"
   ]
  },
  {
   "cell_type": "code",
   "execution_count": 28,
   "id": "7a4c7e94-0dc7-4e15-92ba-896b479e3a3f",
   "metadata": {},
   "outputs": [],
   "source": [
    "# импорт всех необходимых модулей\n",
    "\n",
    "import json\n",
    "import pandas as pd\n",
    "import re\n",
    "import pymorphy2\n",
    "import pymystem3\n",
    "from corpy.udpipe import Model\n",
    "from razdel import tokenize"
   ]
  },
  {
   "cell_type": "code",
   "execution_count": 30,
   "id": "7bb18452-4e89-4412-acd0-19b041c9389e",
   "metadata": {},
   "outputs": [],
   "source": [
    "# загрузим датасет\n",
    "\n",
    "data = []\n",
    "with open('google.json', encoding='utf8') as file:  # меняйте название файла на свое\n",
    "    for line in file:\n",
    "        data.append(json.loads(line))\n",
    "data = pd.DataFrame(data)"
   ]
  },
  {
   "cell_type": "code",
   "execution_count": 6,
   "id": "a7d60318-afc2-431f-9a86-91c23f774ea9",
   "metadata": {},
   "outputs": [
    {
     "data": {
      "text/html": [
       "<div>\n",
       "<style scoped>\n",
       "    .dataframe tbody tr th:only-of-type {\n",
       "        vertical-align: middle;\n",
       "    }\n",
       "\n",
       "    .dataframe tbody tr th {\n",
       "        vertical-align: top;\n",
       "    }\n",
       "\n",
       "    .dataframe thead th {\n",
       "        text-align: right;\n",
       "    }\n",
       "</style>\n",
       "<table border=\"1\" class=\"dataframe\">\n",
       "  <thead>\n",
       "    <tr style=\"text-align: right;\">\n",
       "      <th></th>\n",
       "      <th>id</th>\n",
       "      <th>conversation_id</th>\n",
       "      <th>created_at</th>\n",
       "      <th>date</th>\n",
       "      <th>time</th>\n",
       "      <th>timezone</th>\n",
       "      <th>user_id</th>\n",
       "      <th>username</th>\n",
       "      <th>name</th>\n",
       "      <th>place</th>\n",
       "      <th>...</th>\n",
       "      <th>geo</th>\n",
       "      <th>source</th>\n",
       "      <th>user_rt_id</th>\n",
       "      <th>user_rt</th>\n",
       "      <th>retweet_id</th>\n",
       "      <th>reply_to</th>\n",
       "      <th>retweet_date</th>\n",
       "      <th>translate</th>\n",
       "      <th>trans_src</th>\n",
       "      <th>trans_dest</th>\n",
       "    </tr>\n",
       "  </thead>\n",
       "  <tbody>\n",
       "    <tr>\n",
       "      <th>0</th>\n",
       "      <td>1446016335457234944</td>\n",
       "      <td>1446016335457234944</td>\n",
       "      <td>2021-10-07 10:35:34 MSK</td>\n",
       "      <td>2021-10-07</td>\n",
       "      <td>10:35:34</td>\n",
       "      <td>+0300</td>\n",
       "      <td>53002114</td>\n",
       "      <td>googlerussia</td>\n",
       "      <td>Google Россия</td>\n",
       "      <td></td>\n",
       "      <td>...</td>\n",
       "      <td></td>\n",
       "      <td></td>\n",
       "      <td></td>\n",
       "      <td></td>\n",
       "      <td></td>\n",
       "      <td>[]</td>\n",
       "      <td></td>\n",
       "      <td></td>\n",
       "      <td></td>\n",
       "      <td></td>\n",
       "    </tr>\n",
       "    <tr>\n",
       "      <th>1</th>\n",
       "      <td>1445395751274754061</td>\n",
       "      <td>1445395751274754061</td>\n",
       "      <td>2021-10-05 17:29:35 MSK</td>\n",
       "      <td>2021-10-05</td>\n",
       "      <td>17:29:35</td>\n",
       "      <td>+0300</td>\n",
       "      <td>53002114</td>\n",
       "      <td>googlerussia</td>\n",
       "      <td>Google Россия</td>\n",
       "      <td></td>\n",
       "      <td>...</td>\n",
       "      <td></td>\n",
       "      <td></td>\n",
       "      <td></td>\n",
       "      <td></td>\n",
       "      <td></td>\n",
       "      <td>[]</td>\n",
       "      <td></td>\n",
       "      <td></td>\n",
       "      <td></td>\n",
       "      <td></td>\n",
       "    </tr>\n",
       "    <tr>\n",
       "      <th>2</th>\n",
       "      <td>1443587660560297985</td>\n",
       "      <td>1443183401192804362</td>\n",
       "      <td>2021-09-30 17:44:53 MSK</td>\n",
       "      <td>2021-09-30</td>\n",
       "      <td>17:44:53</td>\n",
       "      <td>+0300</td>\n",
       "      <td>53002114</td>\n",
       "      <td>googlerussia</td>\n",
       "      <td>Google Россия</td>\n",
       "      <td></td>\n",
       "      <td>...</td>\n",
       "      <td></td>\n",
       "      <td></td>\n",
       "      <td></td>\n",
       "      <td></td>\n",
       "      <td></td>\n",
       "      <td>[]</td>\n",
       "      <td></td>\n",
       "      <td></td>\n",
       "      <td></td>\n",
       "      <td></td>\n",
       "    </tr>\n",
       "    <tr>\n",
       "      <th>3</th>\n",
       "      <td>1443183401192804362</td>\n",
       "      <td>1443183401192804362</td>\n",
       "      <td>2021-09-29 14:58:30 MSK</td>\n",
       "      <td>2021-09-29</td>\n",
       "      <td>14:58:30</td>\n",
       "      <td>+0300</td>\n",
       "      <td>53002114</td>\n",
       "      <td>googlerussia</td>\n",
       "      <td>Google Россия</td>\n",
       "      <td></td>\n",
       "      <td>...</td>\n",
       "      <td></td>\n",
       "      <td></td>\n",
       "      <td></td>\n",
       "      <td></td>\n",
       "      <td></td>\n",
       "      <td>[]</td>\n",
       "      <td></td>\n",
       "      <td></td>\n",
       "      <td></td>\n",
       "      <td></td>\n",
       "    </tr>\n",
       "    <tr>\n",
       "      <th>4</th>\n",
       "      <td>1442487926399463426</td>\n",
       "      <td>1442487926399463426</td>\n",
       "      <td>2021-09-27 16:54:56 MSK</td>\n",
       "      <td>2021-09-27</td>\n",
       "      <td>16:54:56</td>\n",
       "      <td>+0300</td>\n",
       "      <td>53002114</td>\n",
       "      <td>googlerussia</td>\n",
       "      <td>Google Россия</td>\n",
       "      <td></td>\n",
       "      <td>...</td>\n",
       "      <td></td>\n",
       "      <td></td>\n",
       "      <td></td>\n",
       "      <td></td>\n",
       "      <td></td>\n",
       "      <td>[]</td>\n",
       "      <td></td>\n",
       "      <td></td>\n",
       "      <td></td>\n",
       "      <td></td>\n",
       "    </tr>\n",
       "  </tbody>\n",
       "</table>\n",
       "<p>5 rows × 36 columns</p>\n",
       "</div>"
      ],
      "text/plain": [
       "                    id      conversation_id               created_at  \\\n",
       "0  1446016335457234944  1446016335457234944  2021-10-07 10:35:34 MSK   \n",
       "1  1445395751274754061  1445395751274754061  2021-10-05 17:29:35 MSK   \n",
       "2  1443587660560297985  1443183401192804362  2021-09-30 17:44:53 MSK   \n",
       "3  1443183401192804362  1443183401192804362  2021-09-29 14:58:30 MSK   \n",
       "4  1442487926399463426  1442487926399463426  2021-09-27 16:54:56 MSK   \n",
       "\n",
       "         date      time timezone   user_id      username           name place  \\\n",
       "0  2021-10-07  10:35:34    +0300  53002114  googlerussia  Google Россия         \n",
       "1  2021-10-05  17:29:35    +0300  53002114  googlerussia  Google Россия         \n",
       "2  2021-09-30  17:44:53    +0300  53002114  googlerussia  Google Россия         \n",
       "3  2021-09-29  14:58:30    +0300  53002114  googlerussia  Google Россия         \n",
       "4  2021-09-27  16:54:56    +0300  53002114  googlerussia  Google Россия         \n",
       "\n",
       "   ... geo source user_rt_id user_rt retweet_id  reply_to  retweet_date  \\\n",
       "0  ...                                                 []                 \n",
       "1  ...                                                 []                 \n",
       "2  ...                                                 []                 \n",
       "3  ...                                                 []                 \n",
       "4  ...                                                 []                 \n",
       "\n",
       "   translate trans_src trans_dest  \n",
       "0                                  \n",
       "1                                  \n",
       "2                                  \n",
       "3                                  \n",
       "4                                  \n",
       "\n",
       "[5 rows x 36 columns]"
      ]
     },
     "execution_count": 6,
     "metadata": {},
     "output_type": "execute_result"
    }
   ],
   "source": [
    "data.head()"
   ]
  },
  {
   "cell_type": "code",
   "execution_count": 3,
   "id": "81259a2a-b6b1-4e91-9bb2-35f8d8331c3d",
   "metadata": {},
   "outputs": [
    {
     "data": {
      "text/plain": [
       "Index(['id', 'conversation_id', 'created_at', 'date', 'time', 'timezone',\n",
       "       'user_id', 'username', 'name', 'place', 'tweet', 'language', 'mentions',\n",
       "       'urls', 'photos', 'replies_count', 'retweets_count', 'likes_count',\n",
       "       'hashtags', 'cashtags', 'link', 'retweet', 'quote_url', 'video',\n",
       "       'thumbnail', 'near', 'geo', 'source', 'user_rt_id', 'user_rt',\n",
       "       'retweet_id', 'reply_to', 'retweet_date', 'translate', 'trans_src',\n",
       "       'trans_dest'],\n",
       "      dtype='object')"
      ]
     },
     "execution_count": 3,
     "metadata": {},
     "output_type": "execute_result"
    }
   ],
   "source": [
    "data.columns"
   ]
  },
  {
   "cell_type": "code",
   "execution_count": 6,
   "id": "ded6e094-101d-4025-a773-8f3748927005",
   "metadata": {},
   "outputs": [],
   "source": [
    "data = data[data.language == 'ru']  # отфильтруем только русский"
   ]
  },
  {
   "cell_type": "code",
   "execution_count": 7,
   "id": "74369c50-5172-48cd-be98-a609c3b66dca",
   "metadata": {},
   "outputs": [],
   "source": [
    "data.tweet = data.tweet.apply(lambda tweet: re.sub(r'https://.+|@\\S+|#\\S+', '', tweet))\n",
    "# почистим твиты от адресов, обращений к людям (@google) и хештегов"
   ]
  },
  {
   "cell_type": "code",
   "execution_count": 8,
   "id": "fd1981ea-a654-4627-811e-9acb9a052121",
   "metadata": {},
   "outputs": [
    {
     "data": {
      "text/html": [
       "<div>\n",
       "<style scoped>\n",
       "    .dataframe tbody tr th:only-of-type {\n",
       "        vertical-align: middle;\n",
       "    }\n",
       "\n",
       "    .dataframe tbody tr th {\n",
       "        vertical-align: top;\n",
       "    }\n",
       "\n",
       "    .dataframe thead th {\n",
       "        text-align: right;\n",
       "    }\n",
       "</style>\n",
       "<table border=\"1\" class=\"dataframe\">\n",
       "  <thead>\n",
       "    <tr style=\"text-align: right;\">\n",
       "      <th></th>\n",
       "      <th>tweet</th>\n",
       "    </tr>\n",
       "  </thead>\n",
       "  <tbody>\n",
       "    <tr>\n",
       "      <th>0</th>\n",
       "      <td>Кто такой «бөтүүк» и почему «кот» — не всегда животное? Пройди тест  и проверь, насколько хорошо ты понимаешь языки разных народов России!</td>\n",
       "    </tr>\n",
       "    <tr>\n",
       "      <th>1</th>\n",
       "      <td>Сегодня  — праздник тех, кто посвятил свою жизнь тому, чтобы делиться знаниями. Спасибо, что несмотря на непростые два года и непривычный онлайн-формат, вы продолжаете пробуждать любопытство и терпеливо отвечать на бесконечные «почему» и «как» своих учеников!</td>\n",
       "    </tr>\n",
       "    <tr>\n",
       "      <th>2</th>\n",
       "      <td>Для тех, кто пропустил онлайн-конференцию Search On,  выпустили материал о всех обновлениях Google Поиск!</td>\n",
       "    </tr>\n",
       "    <tr>\n",
       "      <th>3</th>\n",
       "      <td>Узнай, как ИИ помогает нам сделать Google Поиск еще полезнее и удобнее. Сегодня, в 20:00, на онлайн-конференции Search On мы поделимся нашими новостями. Не пропусти!</td>\n",
       "    </tr>\n",
       "    <tr>\n",
       "      <th>4</th>\n",
       "      <td>С днём рождения нас! Сегодня нам исполнилось 23 года 🎉</td>\n",
       "    </tr>\n",
       "  </tbody>\n",
       "</table>\n",
       "</div>"
      ],
      "text/plain": [
       "                                                                                                                                                                                                                                                                   tweet\n",
       "0                                                                                                                           Кто такой «бөтүүк» и почему «кот» — не всегда животное? Пройди тест  и проверь, насколько хорошо ты понимаешь языки разных народов России!  \n",
       "1  Сегодня  — праздник тех, кто посвятил свою жизнь тому, чтобы делиться знаниями. Спасибо, что несмотря на непростые два года и непривычный онлайн-формат, вы продолжаете пробуждать любопытство и терпеливо отвечать на бесконечные «почему» и «как» своих учеников!  \n",
       "2                                                                                                                                                            Для тех, кто пропустил онлайн-конференцию Search On,  выпустили материал о всех обновлениях Google Поиск!  \n",
       "3                                                                                                Узнай, как ИИ помогает нам сделать Google Поиск еще полезнее и удобнее. Сегодня, в 20:00, на онлайн-конференции Search On мы поделимся нашими новостями. Не пропусти!  \n",
       "4                                                                                                                                                                                                               С днём рождения нас! Сегодня нам исполнилось 23 года 🎉  "
      ]
     },
     "execution_count": 8,
     "metadata": {},
     "output_type": "execute_result"
    }
   ],
   "source": [
    "pd.set_option('display.max_colwidth', None)  # эта штука нужна, чтобы отображались твиты целиком\n",
    "data[['tweet']].head()"
   ]
  },
  {
   "cell_type": "markdown",
   "id": "50ce4cd1-e2e1-459a-a946-567934ecd97d",
   "metadata": {},
   "source": [
    "Используем правиловый токенизатор pymorphy2"
   ]
  },
  {
   "cell_type": "code",
   "execution_count": 9,
   "id": "baa2a539-c62c-471e-bf89-b6b38ca91acf",
   "metadata": {},
   "outputs": [
    {
     "data": {
      "text/plain": [
       "['Кто', 'такой', '«', 'бөтүүк', '»', 'и', 'почему', '«', 'кот', '»']"
      ]
     },
     "execution_count": 9,
     "metadata": {},
     "output_type": "execute_result"
    }
   ],
   "source": [
    "tokens = []\n",
    "for elem in data.tweet:\n",
    "    tokens.extend([t.text for t in tokenize(elem)])\n",
    "tokens[:10]"
   ]
  },
  {
   "cell_type": "code",
   "execution_count": 10,
   "id": "12f17cc5-1246-4d20-a4b1-a559b7111685",
   "metadata": {},
   "outputs": [
    {
     "data": {
      "text/plain": [
       "[Parse(word='кто', tag=OpencorporaTag('NPRO,masc sing,nomn'), normal_form='кто', score=1.0, methods_stack=((DictionaryAnalyzer(), 'кто', 1817, 0),)),\n",
       " Parse(word='такой', tag=OpencorporaTag('ADJF,Apro femn,sing,gent'), normal_form='такой', score=0.51004, methods_stack=((DictionaryAnalyzer(), 'такой', 1754, 8),)),\n",
       " Parse(word='«', tag=OpencorporaTag('PNCT'), normal_form='«', score=1.0, methods_stack=((PunctuationAnalyzer(score=0.9), '«'),)),\n",
       " Parse(word='бөтүүк', tag=OpencorporaTag('NOUN,anim,masc sing,nomn'), normal_form='бөтүүк', score=0.928456332581373, methods_stack=((FakeDictionary(), 'бөтүүк', 2, 0), (KnownSuffixAnalyzer(min_word_length=4, score_multiplier=0.5), 'к'))),\n",
       " Parse(word='»', tag=OpencorporaTag('PNCT'), normal_form='»', score=1.0, methods_stack=((PunctuationAnalyzer(score=0.9), '»'),)),\n",
       " Parse(word='и', tag=OpencorporaTag('CONJ'), normal_form='и', score=0.998263, methods_stack=((DictionaryAnalyzer(), 'и', 20, 0),)),\n",
       " Parse(word='почему', tag=OpencorporaTag('ADVB,Ques'), normal_form='почему', score=1.0, methods_stack=((DictionaryAnalyzer(), 'почему', 1181, 0),)),\n",
       " Parse(word='«', tag=OpencorporaTag('PNCT'), normal_form='«', score=1.0, methods_stack=((PunctuationAnalyzer(score=0.9), '«'),)),\n",
       " Parse(word='кот', tag=OpencorporaTag('NOUN,anim,masc sing,nomn'), normal_form='кот', score=1.0, methods_stack=((DictionaryAnalyzer(), 'кот', 52, 0),)),\n",
       " Parse(word='»', tag=OpencorporaTag('PNCT'), normal_form='»', score=1.0, methods_stack=((PunctuationAnalyzer(score=0.9), '»'),))]"
      ]
     },
     "execution_count": 10,
     "metadata": {},
     "output_type": "execute_result"
    }
   ],
   "source": [
    "res = []\n",
    "morph = pymorphy2.MorphAnalyzer()\n",
    "for token in tokens[:1000]:\n",
    "    res.append(morph.parse(token)[0])\n",
    "res[:10]"
   ]
  },
  {
   "cell_type": "code",
   "execution_count": 13,
   "id": "777cb5c1-88bc-457b-b814-41c195908fc2",
   "metadata": {},
   "outputs": [
    {
     "data": {
      "text/html": [
       "<div>\n",
       "<style scoped>\n",
       "    .dataframe tbody tr th:only-of-type {\n",
       "        vertical-align: middle;\n",
       "    }\n",
       "\n",
       "    .dataframe tbody tr th {\n",
       "        vertical-align: top;\n",
       "    }\n",
       "\n",
       "    .dataframe thead th {\n",
       "        text-align: right;\n",
       "    }\n",
       "</style>\n",
       "<table border=\"1\" class=\"dataframe\">\n",
       "  <thead>\n",
       "    <tr style=\"text-align: right;\">\n",
       "      <th></th>\n",
       "      <th>word</th>\n",
       "      <th>lemma</th>\n",
       "      <th>pos</th>\n",
       "      <th>feats</th>\n",
       "    </tr>\n",
       "  </thead>\n",
       "  <tbody>\n",
       "    <tr>\n",
       "      <th>0</th>\n",
       "      <td>кто</td>\n",
       "      <td>кто</td>\n",
       "      <td>NPRO</td>\n",
       "      <td>NPRO,masc sing,nomn</td>\n",
       "    </tr>\n",
       "    <tr>\n",
       "      <th>1</th>\n",
       "      <td>такой</td>\n",
       "      <td>такой</td>\n",
       "      <td>ADJF</td>\n",
       "      <td>ADJF,Apro femn,sing,gent</td>\n",
       "    </tr>\n",
       "    <tr>\n",
       "      <th>2</th>\n",
       "      <td>«</td>\n",
       "      <td>«</td>\n",
       "      <td>None</td>\n",
       "      <td>PNCT</td>\n",
       "    </tr>\n",
       "    <tr>\n",
       "      <th>3</th>\n",
       "      <td>бөтүүк</td>\n",
       "      <td>бөтүүк</td>\n",
       "      <td>NOUN</td>\n",
       "      <td>NOUN,anim,masc sing,nomn</td>\n",
       "    </tr>\n",
       "    <tr>\n",
       "      <th>4</th>\n",
       "      <td>»</td>\n",
       "      <td>»</td>\n",
       "      <td>None</td>\n",
       "      <td>PNCT</td>\n",
       "    </tr>\n",
       "  </tbody>\n",
       "</table>\n",
       "</div>"
      ],
      "text/plain": [
       "     word   lemma   pos                     feats\n",
       "0     кто     кто  NPRO       NPRO,masc sing,nomn\n",
       "1   такой   такой  ADJF  ADJF,Apro femn,sing,gent\n",
       "2       «       «  None                      PNCT\n",
       "3  бөтүүк  бөтүүк  NOUN  NOUN,anim,masc sing,nomn\n",
       "4       »       »  None                      PNCT"
      ]
     },
     "execution_count": 13,
     "metadata": {},
     "output_type": "execute_result"
    }
   ],
   "source": [
    "# чтобы собрать разборы и записать их в табличку в экселе:\n",
    "\n",
    "pymorphyres = pd.DataFrame([{'word': t.word, \n",
    "                'lemma': t.normal_form, \n",
    "                'pos': t.tag.POS, \n",
    "                'feats': t.tag} for t in res])\n",
    "pymorphyres.head()"
   ]
  },
  {
   "cell_type": "code",
   "execution_count": 14,
   "id": "cf1c1983-9887-4ced-a430-811af0e677ee",
   "metadata": {},
   "outputs": [],
   "source": [
    "pymorphyres.to_excel('ru_pymorphy.xlsx')"
   ]
  },
  {
   "cell_type": "markdown",
   "id": "05b45903-0f06-488c-a24a-6c7493728cea",
   "metadata": {},
   "source": [
    "А теперь майстем"
   ]
  },
  {
   "cell_type": "code",
   "execution_count": 19,
   "id": "7c56782c-c7bf-41e5-9147-6cb7b6c1fc36",
   "metadata": {},
   "outputs": [
    {
     "data": {
      "text/plain": [
       "[{'analysis': [{'lex': 'кто', 'gr': 'SPRO,ед,муж,од=им'}], 'text': 'Кто'},\n",
       " {'analysis': [{'lex': 'такой', 'gr': 'APRO=пр,ед,жен'},\n",
       "   {'lex': 'такой', 'gr': 'APRO=дат,ед,жен'},\n",
       "   {'lex': 'такой', 'gr': 'APRO=род,ед,жен'},\n",
       "   {'lex': 'такой', 'gr': 'APRO=твор,ед,жен'},\n",
       "   {'lex': 'такой', 'gr': 'APRO=вин,ед,муж,неод'},\n",
       "   {'lex': 'такой', 'gr': 'APRO=им,ед,муж'}],\n",
       "  'text': 'такой'},\n",
       " {'analysis': [], 'text': 'бөтүүк'},\n",
       " {'analysis': [{'lex': 'и', 'gr': 'CONJ='}], 'text': 'и'},\n",
       " {'analysis': [{'lex': 'почему', 'gr': 'ADVPRO='}], 'text': 'почему'},\n",
       " {'analysis': [{'lex': 'кот', 'gr': 'S,муж,од=им,ед'}], 'text': 'кот'},\n",
       " {'analysis': [{'lex': 'не', 'gr': 'PART='}], 'text': 'не'},\n",
       " {'analysis': [{'lex': 'всегда', 'gr': 'ADVPRO='}], 'text': 'всегда'},\n",
       " {'analysis': [{'lex': 'животное', 'gr': 'S,сред,од=вин,ед'},\n",
       "   {'lex': 'животное', 'gr': 'S,сред,од=им,ед'}],\n",
       "  'text': 'животное'},\n",
       " {'analysis': [{'lex': 'проходить', 'gr': 'V,нп=ед,пов,2-л,сов'}],\n",
       "  'text': 'Пройди'}]"
      ]
     },
     "execution_count": 19,
     "metadata": {},
     "output_type": "execute_result"
    }
   ],
   "source": [
    "mystem = pymystem3.Mystem(entire_input=False, glue_grammar_info=False)\n",
    "\n",
    "resM = []\n",
    "for elem in data.loc[:1000, 'tweet']:\n",
    "    resM.extend(mystem.analyze(elem))\n",
    "    \n",
    "resM[:10]"
   ]
  },
  {
   "cell_type": "code",
   "execution_count": 20,
   "id": "a6a796fb-96ae-4a7c-9242-1505d3f99880",
   "metadata": {},
   "outputs": [
    {
     "data": {
      "text/html": [
       "<div>\n",
       "<style scoped>\n",
       "    .dataframe tbody tr th:only-of-type {\n",
       "        vertical-align: middle;\n",
       "    }\n",
       "\n",
       "    .dataframe tbody tr th {\n",
       "        vertical-align: top;\n",
       "    }\n",
       "\n",
       "    .dataframe thead th {\n",
       "        text-align: right;\n",
       "    }\n",
       "</style>\n",
       "<table border=\"1\" class=\"dataframe\">\n",
       "  <thead>\n",
       "    <tr style=\"text-align: right;\">\n",
       "      <th></th>\n",
       "      <th>word</th>\n",
       "      <th>lemma</th>\n",
       "      <th>pos</th>\n",
       "      <th>morpho</th>\n",
       "    </tr>\n",
       "  </thead>\n",
       "  <tbody>\n",
       "    <tr>\n",
       "      <th>0</th>\n",
       "      <td>Кто</td>\n",
       "      <td>кто</td>\n",
       "      <td>SPRO</td>\n",
       "      <td>SPRO,ед,муж,од=им</td>\n",
       "    </tr>\n",
       "    <tr>\n",
       "      <th>1</th>\n",
       "      <td>такой</td>\n",
       "      <td>такой</td>\n",
       "      <td>APRO</td>\n",
       "      <td>APRO=пр,ед,жен</td>\n",
       "    </tr>\n",
       "    <tr>\n",
       "      <th>2</th>\n",
       "      <td>бөтүүк</td>\n",
       "      <td>бөтүүк</td>\n",
       "      <td>None</td>\n",
       "      <td>None</td>\n",
       "    </tr>\n",
       "    <tr>\n",
       "      <th>3</th>\n",
       "      <td>и</td>\n",
       "      <td>и</td>\n",
       "      <td>CONJ</td>\n",
       "      <td>CONJ=</td>\n",
       "    </tr>\n",
       "    <tr>\n",
       "      <th>4</th>\n",
       "      <td>почему</td>\n",
       "      <td>почему</td>\n",
       "      <td>ADVPRO</td>\n",
       "      <td>ADVPRO=</td>\n",
       "    </tr>\n",
       "  </tbody>\n",
       "</table>\n",
       "</div>"
      ],
      "text/plain": [
       "     word   lemma     pos             morpho\n",
       "0     Кто     кто    SPRO  SPRO,ед,муж,од=им\n",
       "1   такой   такой    APRO     APRO=пр,ед,жен\n",
       "2  бөтүүк  бөтүүк    None               None\n",
       "3       и       и    CONJ              CONJ=\n",
       "4  почему  почему  ADVPRO            ADVPRO="
      ]
     },
     "execution_count": 20,
     "metadata": {},
     "output_type": "execute_result"
    }
   ],
   "source": [
    "mystemresults = []\n",
    "for token in resM:\n",
    "    if token.get('analysis'):\n",
    "        mystemresults.append({'word': token['text'],\n",
    "                             'lemma': token['analysis'][0]['lex'],\n",
    "                             'pos': mystem.get_pos(token),\n",
    "                             'morpho': token['analysis'][0]['gr']})\n",
    "    else:\n",
    "        mystemresults.append({'word': token['text'],\n",
    "                             'lemma': token['text'],\n",
    "                             'pos': None,\n",
    "                             'morpho': None})\n",
    "mystemresults = pd.DataFrame(mystemresults)\n",
    "mystemresults.head()"
   ]
  },
  {
   "cell_type": "code",
   "execution_count": 21,
   "id": "70d9f05c-dc19-4bc1-b47a-f3a7e9d74495",
   "metadata": {},
   "outputs": [],
   "source": [
    "mystemresults.to_excel('ru_mystem.xlsx')"
   ]
  },
  {
   "cell_type": "markdown",
   "id": "5ce773f7-25a4-47b2-a9fa-e1563e92922f",
   "metadata": {},
   "source": [
    "А теперь udpipe - парсер на нейронной сети"
   ]
  },
  {
   "cell_type": "code",
   "execution_count": 23,
   "id": "277b8338-1651-4c75-9a60-f060eb1cac41",
   "metadata": {},
   "outputs": [],
   "source": [
    "m = Model('russian-taiga-ud-2.5-191206.udpipe')  # загрузим модель udpipe для русского языка"
   ]
  },
  {
   "cell_type": "code",
   "execution_count": 24,
   "id": "6497f4ce-1cbf-470d-8415-b00074f4e79d",
   "metadata": {},
   "outputs": [],
   "source": [
    "sents = list(m.process(data.loc[0, 'tweet'])) # это тестовый прогон на единственном твите"
   ]
  },
  {
   "cell_type": "code",
   "execution_count": 25,
   "id": "f2f0d2a5-bd74-4b17-868d-42880369da87",
   "metadata": {},
   "outputs": [
    {
     "name": "stdout",
     "output_type": "stream",
     "text": [
      "<root> <root> <root>\n",
      "Кто кто Animacy=Anim|Case=Nom|Gender=Masc|Number=Sing\n",
      "такой такой Case=Nom|Gender=Masc|Number=Sing\n",
      "« « \n",
      "бөтүүк бөтүүк Animacy=Anim|Case=Nom|Gender=Masc|Number=Sing\n",
      "» » \n",
      "и и \n",
      "почему почему Degree=Pos\n",
      "« « \n",
      "кот кот \n",
      "» » \n",
      "— — \n",
      "не не Polarity=Neg\n",
      "всегда всегда Degree=Pos\n",
      "животное животный Case=Nom|Degree=Pos|Gender=Neut|Number=Sing\n",
      "? ? \n",
      "<root> <root> <root>\n",
      "Пройди Пройди Aspect=Imp|Mood=Imp|Number=Sing|Person=2|VerbForm=Fin|Voice=Act\n",
      "тест тест Animacy=Inan|Case=Acc|Gender=Masc|Number=Sing\n",
      "и и \n",
      "проверь проверь Aspect=Imp|VerbForm=Inf|Voice=Act\n",
      ", , \n",
      "насколько насколько \n",
      "хорошо хорошо Degree=Pos\n",
      "ты ты Case=Nom|Number=Sing|Person=2\n",
      "понимаешь понимать Aspect=Imp|Mood=Ind|Number=Sing|Person=2|Tense=Pres|VerbForm=Fin|Voice=Act\n",
      "языки язык Animacy=Inan|Case=Nom|Gender=Masc|Number=Plur\n",
      "разных разный Case=Gen|Degree=Pos|Number=Plur\n",
      "народов народ Animacy=Inan|Case=Gen|Gender=Masc|Number=Plur\n",
      "России Россия Animacy=Inan|Case=Gen|Gender=Fem|Number=Sing\n",
      "! ! \n"
     ]
    }
   ],
   "source": [
    "for sent in sents:\n",
    "    for word in sent.words:\n",
    "        print(word.form, word.lemma, word.feats)"
   ]
  },
  {
   "cell_type": "code",
   "execution_count": 26,
   "id": "9a8d88ad-311a-497a-8ba2-c3b5fb7ff9c8",
   "metadata": {},
   "outputs": [
    {
     "data": {
      "text/html": [
       "<div>\n",
       "<style scoped>\n",
       "    .dataframe tbody tr th:only-of-type {\n",
       "        vertical-align: middle;\n",
       "    }\n",
       "\n",
       "    .dataframe tbody tr th {\n",
       "        vertical-align: top;\n",
       "    }\n",
       "\n",
       "    .dataframe thead th {\n",
       "        text-align: right;\n",
       "    }\n",
       "</style>\n",
       "<table border=\"1\" class=\"dataframe\">\n",
       "  <thead>\n",
       "    <tr style=\"text-align: right;\">\n",
       "      <th></th>\n",
       "      <th>word</th>\n",
       "      <th>lemma</th>\n",
       "      <th>pos</th>\n",
       "      <th>morph</th>\n",
       "    </tr>\n",
       "  </thead>\n",
       "  <tbody>\n",
       "    <tr>\n",
       "      <th>0</th>\n",
       "      <td>&lt;root&gt;</td>\n",
       "      <td>&lt;root&gt;</td>\n",
       "      <td>&lt;root&gt;</td>\n",
       "      <td>&lt;root&gt;</td>\n",
       "    </tr>\n",
       "    <tr>\n",
       "      <th>1</th>\n",
       "      <td>Кто</td>\n",
       "      <td>кто</td>\n",
       "      <td>PRON</td>\n",
       "      <td>Animacy=Anim|Case=Nom|Gender=Masc|Number=Sing</td>\n",
       "    </tr>\n",
       "    <tr>\n",
       "      <th>2</th>\n",
       "      <td>такой</td>\n",
       "      <td>такой</td>\n",
       "      <td>DET</td>\n",
       "      <td>Case=Nom|Gender=Masc|Number=Sing</td>\n",
       "    </tr>\n",
       "    <tr>\n",
       "      <th>3</th>\n",
       "      <td>«</td>\n",
       "      <td>«</td>\n",
       "      <td>PUNCT</td>\n",
       "      <td></td>\n",
       "    </tr>\n",
       "    <tr>\n",
       "      <th>4</th>\n",
       "      <td>бөтүүк</td>\n",
       "      <td>бөтүүк</td>\n",
       "      <td>NOUN</td>\n",
       "      <td>Animacy=Anim|Case=Nom|Gender=Masc|Number=Sing</td>\n",
       "    </tr>\n",
       "  </tbody>\n",
       "</table>\n",
       "</div>"
      ],
      "text/plain": [
       "     word   lemma     pos                                          morph\n",
       "0  <root>  <root>  <root>                                         <root>\n",
       "1     Кто     кто    PRON  Animacy=Anim|Case=Nom|Gender=Masc|Number=Sing\n",
       "2   такой   такой     DET               Case=Nom|Gender=Masc|Number=Sing\n",
       "3       «       «   PUNCT                                               \n",
       "4  бөтүүк  бөтүүк    NOUN  Animacy=Anim|Case=Nom|Gender=Masc|Number=Sing"
      ]
     },
     "execution_count": 26,
     "metadata": {},
     "output_type": "execute_result"
    }
   ],
   "source": [
    "# чтобы прогнать на тысяче твитов и записать:\n",
    "\n",
    "udresults = []\n",
    "for tweet in data.loc[:1000, 'tweet']:\n",
    "    for sent in m.process(tweet):\n",
    "        for word in sent.words:\n",
    "            udresults.append({'word': word.form, 'lemma': word.lemma, 'pos': word.upostag, 'morph': word.feats})\n",
    "            \n",
    "udresults = pd.DataFrame(udresults)\n",
    "udresults.head()"
   ]
  },
  {
   "cell_type": "code",
   "execution_count": 27,
   "id": "9db4017d-4c53-4f2c-9c5b-f65da0c455ac",
   "metadata": {},
   "outputs": [],
   "source": [
    "udresults.to_excel('udrussian.xlsx')"
   ]
  },
  {
   "cell_type": "code",
   "execution_count": null,
   "id": "25a9ef2a-dc8c-471f-bf0d-ae54f92527f9",
   "metadata": {},
   "outputs": [],
   "source": []
  }
 ],
 "metadata": {
  "kernelspec": {
   "display_name": "Python 3 (ipykernel)",
   "language": "python",
   "name": "python3"
  },
  "language_info": {
   "codemirror_mode": {
    "name": "ipython",
    "version": 3
   },
   "file_extension": ".py",
   "mimetype": "text/x-python",
   "name": "python",
   "nbconvert_exporter": "python",
   "pygments_lexer": "ipython3",
   "version": "3.8.10"
  }
 },
 "nbformat": 4,
 "nbformat_minor": 5
}
